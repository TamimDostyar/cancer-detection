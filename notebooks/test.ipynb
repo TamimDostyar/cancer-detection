{
 "cells": [
  {
   "cell_type": "code",
   "execution_count": 1,
   "metadata": {},
   "outputs": [
    {
     "name": "stdout",
     "output_type": "stream",
     "text": [
      "my_cancer_cnn_model.h5\n"
     ]
    }
   ],
   "source": [
    "!ls models"
   ]
  },
  {
   "cell_type": "code",
   "execution_count": 3,
   "metadata": {},
   "outputs": [
    {
     "name": "stderr",
     "output_type": "stream",
     "text": [
      "WARNING:absl:Compiled the loaded model, but the compiled metrics have yet to be built. `model.compile_metrics` will be empty until you train or evaluate the model.\n"
     ]
    }
   ],
   "source": [
    "from tensorflow.keras.preprocessing import image\n",
    "import numpy as np\n",
    "import tensorflow as tf\n",
    "\n",
    "IMG_SIZE = (224, 224)\n",
    "\n",
    "model = tf.keras.models.load_model(\"/app/models/my_cancer_cnn_model.h5\")"
   ]
  },
  {
   "cell_type": "code",
   "execution_count": 5,
   "metadata": {},
   "outputs": [
    {
     "name": "stdout",
     "output_type": "stream",
     "text": [
      "Class labels: {'lung_aca': 'Lung Adenocarcinoma', 'lung_n': 'Lung Benign Tissue (Normal)', 'lung_scc': 'Lung Squamous Cell Carcinoma', 'colon_aca': 'Colon Adenocarcinoma', 'colon_n': 'Colon Benign Tissue (Normal)'}\n",
      "\u001b[1m1/1\u001b[0m \u001b[32m━━━━━━━━━━━━━━━━━━━━\u001b[0m\u001b[37m\u001b[0m \u001b[1m0s\u001b[0m 44ms/step\n",
      "Predicted class: Lung Benign Tissue (Normal), Confidence: 40.46%\n"
     ]
    }
   ],
   "source": [
    "class_labels = {\n",
    "    \"lung_aca\": \"Lung Adenocarcinoma\",\n",
    "    \"lung_n\": \"Lung Benign Tissue (Normal)\",\n",
    "    \"lung_scc\": \"Lung Squamous Cell Carcinoma\",\n",
    "    \"colon_aca\": \"Colon Adenocarcinoma\",\n",
    "    \"colon_n\": \"Colon Benign Tissue (Normal)\"\n",
    "}\n",
    "print(\"Class labels:\", class_labels)\n",
    "img_path = \"\"\n",
    "img = image.load_img(img_path, target_size=IMG_SIZE)\n",
    "img_array = image.img_to_array(img)\n",
    "img_array = tf.expand_dims(img_array, 0)  # make batch of 1\n",
    "\n",
    "predictions = model.predict(img_array)\n",
    "score = tf.nn.softmax(predictions[0])\n",
    "predicted_key = list(class_labels.keys())[np.argmax(score)]\n",
    "print(\n",
    "    f\"Predicted class: {class_labels[predicted_key]}, Confidence: {100 * np.max(score):.2f}%\")"
   ]
  },
  {
   "cell_type": "code",
   "execution_count": null,
   "metadata": {},
   "outputs": [],
   "source": []
  }
 ],
 "metadata": {
  "kernelspec": {
   "display_name": "Python 3 (ipykernel)",
   "language": "python",
   "name": "python3"
  },
  "language_info": {
   "codemirror_mode": {
    "name": "ipython",
    "version": 3
   },
   "file_extension": ".py",
   "mimetype": "text/x-python",
   "name": "python",
   "nbconvert_exporter": "python",
   "pygments_lexer": "ipython3",
   "version": "3.10.18"
  }
 },
 "nbformat": 4,
 "nbformat_minor": 2
}
